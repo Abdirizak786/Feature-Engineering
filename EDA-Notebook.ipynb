{
  "cells": [
    {
      "cell_type": "code",
      "execution_count": 1,
      "id": "1ae56379",
      "metadata": {
        "vscode": {
          "languageId": "plaintext"
        },
        "id": "1ae56379"
      },
      "outputs": [],
      "source": [
        "# Example of my notebook\n",
        "\n",
        "import pandas as pd\n",
        "import numpy as np\n",
        "import matplotlib.pyplot as plt\n",
        "import seaborn as sns\n",
        "from datetime import datetime, timedelta"
      ]
    },
    {
      "cell_type": "code",
      "source": [
        "# Load the dataset\n",
        "df = pd.read_csv('loan_applications.csv')"
      ],
      "metadata": {
        "id": "IGamExB2qHC4"
      },
      "id": "IGamExB2qHC4",
      "execution_count": null,
      "outputs": []
    },
    {
      "cell_type": "code",
      "source": [
        "# Convert application_date to datetime\n",
        "df['application_date'] = pd.to_datetime(df['application_date'])\n",
        "df_temporal = df.copy()"
      ],
      "metadata": {
        "id": "XL0KwoGFqNEM"
      },
      "id": "XL0KwoGFqNEM",
      "execution_count": null,
      "outputs": []
    }
  ],
  "metadata": {
    "language_info": {
      "name": "python"
    },
    "colab": {
      "provenance": []
    },
    "kernelspec": {
      "name": "python3",
      "display_name": "Python 3"
    }
  },
  "nbformat": 4,
  "nbformat_minor": 5
}